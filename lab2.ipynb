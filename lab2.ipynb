{
 "cells": [
  {
   "attachments": {},
   "cell_type": "markdown",
   "metadata": {},
   "source": [
    "# Assignment 2\n"
   ]
  },
  {
   "attachments": {},
   "cell_type": "markdown",
   "metadata": {},
   "source": [
    "### Name : Polok Poddar"
   ]
  },
  {
   "attachments": {},
   "cell_type": "markdown",
   "metadata": {},
   "source": [
    "ID: 21301644 "
   ]
  },
  {
   "cell_type": "markdown",
   "metadata": {},
   "source": []
  },
  {
   "cell_type": "code",
   "execution_count": 1,
   "metadata": {},
   "outputs": [
    {
     "ename": "NameError",
     "evalue": "name 'upper1' is not defined",
     "output_type": "error",
     "traceback": [
      "\u001b[1;31m---------------------------------------------------------------------------\u001b[0m",
      "\u001b[1;31mNameError\u001b[0m                                 Traceback (most recent call last)",
      "Cell \u001b[1;32mIn[1], line 26\u001b[0m\n\u001b[0;32m     23\u001b[0m         index2 \u001b[39m=\u001b[39m j\n\u001b[0;32m     24\u001b[0m     lst[\u001b[39m1\u001b[39m][j] \u001b[39m=\u001b[39m y[j]\n\u001b[1;32m---> 26\u001b[0m p\u001b[39m=\u001b[39m\u001b[39mf\u001b[39m\u001b[39m\"\u001b[39m\u001b[39m1st Start:\u001b[39m\u001b[39m{\u001b[39;00mupper1\u001b[39m}\u001b[39;00m\u001b[39m,\u001b[39m\u001b[39m{\u001b[39;00mindex1\u001b[39m}\u001b[39;00m\u001b[39m\"\u001b[39m \n\u001b[0;32m     27\u001b[0m q\u001b[39m=\u001b[39m\u001b[39mf\u001b[39m\u001b[39m\"\u001b[39m\u001b[39m2nd Start:\u001b[39m\u001b[39m{\u001b[39;00mupper2\u001b[39m}\u001b[39;00m\u001b[39m,\u001b[39m\u001b[39m{\u001b[39;00mindex2\u001b[39m}\u001b[39;00m\u001b[39m\"\u001b[39m\n\u001b[0;32m     28\u001b[0m \u001b[39mprint\u001b[39m(\u001b[39m\"\u001b[39m\u001b[39m1st Start: \u001b[39m\u001b[39m\"\u001b[39m, upper1, index1)\n",
      "\u001b[1;31mNameError\u001b[0m: name 'upper1' is not defined"
     ]
    }
   ],
   "source": [
    "#Name : Polok Poddar\n",
    "#ID: 21301644\n",
    "\n",
    "################################\n",
    "a=input(\"Enter your String:\")\n",
    "b=input(\"Enter your 2nd string: \")\n",
    "\n",
    "if len(a) > 10 or len(b) > 10:\n",
    "    print(\"Invalid Input Size\")\n",
    "else:\n",
    "    x = a + (10 - len(a)) * \" \"\n",
    "    y = b + (10 - len(b)) * \" \"\n",
    "\n",
    "    lst = [[()]*10, [()]*10]\n",
    "    for i in range(len(x)):\n",
    "        if 65 <= ord(x[i]) <= 90:\n",
    "            upper1 = x[i]\n",
    "            index1 = i\n",
    "        lst[0][i] = x[i]\n",
    "    for j in range(len(y)):\n",
    "        if 65 <= ord(y[j]) <= 90:\n",
    "            upper2 = y[j]\n",
    "            index2 = j\n",
    "        lst[1][j] = y[j]\n",
    "\n",
    "    p=f\"1st Start:{upper1},{index1}\" \n",
    "    q=f\"2nd Start:{upper2},{index2}\"\n",
    "    print(\"1st Start: \", upper1, index1)\n",
    "    print (\"2nd Start: \", upper2, index2)\n",
    "    print(lst)\n",
    "    flag = True\n",
    "    while flag:\n",
    "        user_input = input(\"Enter any character other than q to display billboard or q to exit: \")\n",
    "        if user_input == 'q':\n",
    "            flag = False\n",
    "            print(p)\n",
    "            print(q)\n",
    "        else:\n",
    "            index1 = (index1 - 1 + 10) % 10\n",
    "            index2 = (index2 + 1) % 10\n",
    "            upper1 = lst[0][index1]\n",
    "            upper2 = lst[1][index2]\n",
    "            # print(\"Start: \", upper1, index1)\n",
    "            # print(\"Start: \", upper2, index2)\n",
    "            for i in range(10):\n",
    "                print(lst[0][(index1 + i) % 10], end=\"\")\n",
    "            print(\"\\n\")\n",
    "            for j in range(10):\n",
    "                print(lst[1][(index2 + j) % 10], end=\"\")\n",
    "            print(\"\\n\")\n"
   ]
  }
 ],
 "metadata": {
  "kernelspec": {
   "display_name": "Python 3",
   "language": "python",
   "name": "python3"
  },
  "language_info": {
   "codemirror_mode": {
    "name": "ipython",
    "version": 3
   },
   "file_extension": ".py",
   "mimetype": "text/x-python",
   "name": "python",
   "nbconvert_exporter": "python",
   "pygments_lexer": "ipython3",
   "version": "3.11.2"
  },
  "orig_nbformat": 4,
  "vscode": {
   "interpreter": {
    "hash": "792bf25412c58a312dac690557269d649850e5188d68fec70f0e261ca19fc6c4"
   }
  }
 },
 "nbformat": 4,
 "nbformat_minor": 2
}
